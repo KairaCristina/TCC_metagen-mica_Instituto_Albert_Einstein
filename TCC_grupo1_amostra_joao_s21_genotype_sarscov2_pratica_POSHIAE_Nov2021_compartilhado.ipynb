{
  "nbformat": 4,
  "nbformat_minor": 0,
  "metadata": {
    "colab": {
      "provenance": []
    },
    "kernelspec": {
      "name": "python3",
      "display_name": "Python 3"
    }
  },
  "cells": [
    {
      "cell_type": "markdown",
      "source": [
        "# Pipeline Genotipagem do virus SarsCov-2\n",
        "## Grupo:\n",
        "- Julia Beltramini\n",
        "- Kaira Cristina Peralis Tomaz\n",
        "- Leonardo V. Azevedo\n",
        "- Mélcar Collodetti\n",
        "- Sara Reis\n",
        "- Victor Aldair"
      ],
      "metadata": {
        "id": "eIt9G4-Y3ueV"
      }
    },
    {
      "cell_type": "markdown",
      "metadata": {
        "id": "hp0k9xxYjSgU"
      },
      "source": [
        "## Preparar o ambiente"
      ]
    },
    {
      "cell_type": "markdown",
      "metadata": {
        "id": "LaUKFpCEtveY"
      },
      "source": [
        "Utilize o comando abaixo para instalar os programas necessários para executar o pipeline de genotipagem viral."
      ]
    },
    {
      "cell_type": "code",
      "metadata": {
        "id": "vS7IRnUbjX5Y"
      },
      "source": [
        "%%bash\n",
        "sudo apt install tree fastqc bwa samtools bedtools freebayes\n",
        "pip install cutadapt"
      ],
      "execution_count": null,
      "outputs": []
    },
    {
      "cell_type": "markdown",
      "metadata": {
        "id": "noy3dxfPt53N"
      },
      "source": [
        "Testa se o programa foi instalado corretamente (deve aparecer uma mensagem com o manual do programa)"
      ]
    },
    {
      "cell_type": "code",
      "metadata": {
        "id": "6si2xs6qlePv"
      },
      "source": [
        "!samtools\n"
      ],
      "execution_count": null,
      "outputs": []
    },
    {
      "cell_type": "markdown",
      "metadata": {
        "id": "qLc93yi4uG--"
      },
      "source": [
        "## Download dos arquivos necessários da amostra (FASTQ)"
      ]
    },
    {
      "cell_type": "markdown",
      "source": [
        "Escolha de qual paciente você seguirá para diagnóstico:"
      ],
      "metadata": {
        "id": "tMv-fXj41kna"
      }
    },
    {
      "cell_type": "code",
      "source": [
        "PACIENTE_R1 = \"https://aulas-pos-hiae-public-data.s3.sa-east-1.amazonaws.com/TCC-metagenomica/patient_joao_VIROMA_S21_R1_001.fastq.gz\"\n",
        "PACIENTE_R2 = \"https://aulas-pos-hiae-public-data.s3.sa-east-1.amazonaws.com/TCC-metagenomica/patient_joao_VIROMA_S21_R2_001.fastq.gz\""
      ],
      "metadata": {
        "id": "iziCfBJx1xQ1"
      },
      "execution_count": null,
      "outputs": []
    },
    {
      "cell_type": "markdown",
      "metadata": {
        "id": "jgtqjdg6zxbz"
      },
      "source": [
        "**ATENÇÃO**\n",
        "\n",
        "Edite está célula para PACIENTE1 ou PACIENTE2 de acordo com qual paciente deseje prosseguir com a análise e diagnóstico.  \n",
        "Em seguida, execute a célula abaixo e aguarde o download dos arquivos. Demora cerca de 3 minutos."
      ]
    },
    {
      "cell_type": "code",
      "metadata": {
        "id": "Wk3IBF9Ym5uC"
      },
      "source": [
        "%%bash\n",
        "git clone https://github.com/circulosmeos/gdown.pl.git\n",
        "./gdown.pl/gdown.pl https://aulas-pos-hiae-public-data.s3.sa-east-1.amazonaws.com/TCC-metagenomica/patient_joao_VIROMA_S21_R1_001.fastq.gz PACIENTE1_VIROMA_S21_R1_001.fastq.gz"
      ],
      "execution_count": null,
      "outputs": []
    },
    {
      "cell_type": "code",
      "source": [
        "%%bash\n",
        "git clone https://github.com/circulosmeos/gdown.pl.git\n",
        "./gdown.pl/gdown.pl https://aulas-pos-hiae-public-data.s3.sa-east-1.amazonaws.com/TCC-metagenomica/patient_joao_VIROMA_S21_R2_001.fastq.gz PACIENTE1_VIROMA_S21_R2_001.fastq.gz"
      ],
      "metadata": {
        "id": "E-Lp0OdQQMAV"
      },
      "execution_count": null,
      "outputs": []
    },
    {
      "cell_type": "code",
      "metadata": {
        "id": "h0wHf0a2pjSr",
        "outputId": "7a7439a8-00f1-4eba-d2cf-5797967b2b2a",
        "colab": {
          "base_uri": "https://localhost:8080/"
        }
      },
      "source": [
        "%%bash\n",
        "# Download SARS-COV-2 Reference\n",
        "wget -nv https://aulas-pos-hiae-public-data.s3.sa-east-1.amazonaws.com/NC_045512.fasta"
      ],
      "execution_count": null,
      "outputs": [
        {
          "output_type": "stream",
          "name": "stderr",
          "text": [
            "2024-02-13 22:27:43 URL:https://aulas-pos-hiae-public-data.s3.sa-east-1.amazonaws.com/NC_045512.fasta [30429/30429] -> \"NC_045512.fasta\" [1]\n"
          ]
        }
      ]
    },
    {
      "cell_type": "markdown",
      "metadata": {
        "id": "MvTFuDgDkwdb"
      },
      "source": [
        "Organizar arquivos nas suas respectivas pastas\n",
        "\n",
        "\n",
        "\n"
      ]
    },
    {
      "cell_type": "code",
      "metadata": {
        "id": "zOtfRmajlGFq"
      },
      "source": [
        "%%bash\n",
        "mkdir -p logs fastq passedQC reference mapped variants coverage\n",
        "mv *fastq.gz fastq/\n",
        "mv NC_045512.fasta reference/\n"
      ],
      "execution_count": null,
      "outputs": []
    },
    {
      "cell_type": "code",
      "source": [
        "# Coletar nome da amostra em uma variável\n",
        "temp = !basename fastq/*_R1* _R1_001.fastq.gz\n",
        "SAMPLE = temp[0]\n",
        "print(SAMPLE)"
      ],
      "metadata": {
        "id": "cCpfRXa2Fidg"
      },
      "execution_count": null,
      "outputs": []
    },
    {
      "cell_type": "markdown",
      "metadata": {
        "id": "pZgkOK7UuSLk"
      },
      "source": [
        "Verifique se os arquivos estão salvos corretamente no diretório de trabalho. O comando *tree* mostra as pastas e seus respectivos conteúdos na forma de uma árvore."
      ]
    },
    {
      "cell_type": "code",
      "metadata": {
        "id": "Q5YQnraDp2ST"
      },
      "source": [
        "!tree"
      ],
      "execution_count": null,
      "outputs": []
    },
    {
      "cell_type": "markdown",
      "metadata": {
        "id": "Zjm08uhHmyaS"
      },
      "source": [
        "## Controle de Qualidade das Sequências com FASTQC"
      ]
    },
    {
      "cell_type": "markdown",
      "metadata": {
        "id": "KBZz6TkB0Rs4"
      },
      "source": [
        "O comando abaixo irá executar um programa chamado FASTQC, que é muito utilizado para gerar relatórios sobre a qualidade dos seus dados de sequenciamento."
      ]
    },
    {
      "cell_type": "code",
      "metadata": {
        "id": "gklI0Sf4nDfE"
      },
      "source": [
        "\n",
        "!fastqc fastq/{SAMPLE}_R1_001.fastq.gz fastq/{SAMPLE}_R2_001.fastq.gz"
      ],
      "execution_count": null,
      "outputs": []
    },
    {
      "cell_type": "markdown",
      "metadata": {
        "id": "hzr-E07D0h90"
      },
      "source": [
        "Novamente, verifique com o comando abaixo que dois arquivos .HTML foram criados dentro da pasta FASTQ. Você pode baixá-los através da janela a esquerda e abri-los no seu navegador de preferência."
      ]
    },
    {
      "cell_type": "code",
      "metadata": {
        "id": "raAbOOZAnekR"
      },
      "source": [
        "!tree"
      ],
      "execution_count": null,
      "outputs": []
    },
    {
      "cell_type": "markdown",
      "metadata": {
        "id": "PKEc00z9pTPw"
      },
      "source": [
        "## Limpeza das sequências com cutadapt"
      ]
    },
    {
      "cell_type": "markdown",
      "metadata": {
        "id": "FxgwFFpTpXe6"
      },
      "source": [
        "Um dos software mais utilizados para limpeza das sequências de NGS se chama *cutadapt*. Vamos utilizá-los para trimar as pontas das sequências e para filtrar as sequências menores do que 50pb.  \n",
        "Os parâmetros de limpeza podem variar de corrida a corrida ou mesmo do tipo de tecnologia de sequenciamento. Olhar os relatórios do FASTQC gerado acima pode te dar boas pistas de como fazer essa limpeza. Olhe lá e tente parâmetros diferentes aqui. Lembrando que se você digitar *fastqc -h* em uma das células, o prompt te retornará o manual de uso do software."
      ]
    },
    {
      "cell_type": "code",
      "metadata": {
        "id": "gbFLtSSbsf4y"
      },
      "source": [
        "\n",
        "!cutadapt -u 5 -U 5 -u -9 -U -9 -m 50 -o passedQC/{SAMPLE}_cleaned_R1.fastq -p passedQC/{SAMPLE}_cleaned_R2.fastq fastq/{SAMPLE}_R1_001.fastq.gz fastq/{SAMPLE}_R2_001.fastq.gz"
      ],
      "execution_count": null,
      "outputs": []
    },
    {
      "cell_type": "markdown",
      "metadata": {
        "id": "EUdLApUoubDd"
      },
      "source": [
        "## Mapeamento dos reads no genoma de referência do SARS-CoV-2"
      ]
    },
    {
      "cell_type": "markdown",
      "metadata": {
        "id": "bGD54_Wh01Tc"
      },
      "source": [
        "Para fazer o mapeamento dos reads de sequenciamento limpos, iremos utilizar um software chamado BWA. Ele é muito utilizado para fazer alinhamento de sequencias curtas contra um genoma de referência, que no nosso caso é o genoma do SARS-CoV-2."
      ]
    },
    {
      "cell_type": "markdown",
      "metadata": {
        "id": "P3AinjwT1L_D"
      },
      "source": [
        "Primeiramente, é necessário preparar a referência para o alinhamento. É o que chamamos de indexação da referência."
      ]
    },
    {
      "cell_type": "code",
      "metadata": {
        "id": "s7dgi42-qIfA"
      },
      "source": [
        "%%bash\n",
        "bwa index reference/NC_045512.fasta"
      ],
      "execution_count": null,
      "outputs": []
    },
    {
      "cell_type": "markdown",
      "metadata": {
        "id": "4tspdpRv1YC5"
      },
      "source": [
        "Após a indexação, podemos usar o comando que faz o mapeamento chamado *bwa mem*. Lembrando sempre que o programa precisa dos fastqs limpos e da referência como entrada. Este comando pode demorar cerca de 2 minutos, seja paciente."
      ]
    },
    {
      "cell_type": "code",
      "metadata": {
        "id": "EiELG0gPqJ4r"
      },
      "source": [
        "\n",
        "!bwa mem reference/NC_045512.fasta passedQC/{SAMPLE}_cleaned_R1.fastq passedQC/{SAMPLE}_cleaned_R2.fastq > mapped/{SAMPLE}_mapped_sarscov2.sam\n"
      ],
      "execution_count": null,
      "outputs": []
    },
    {
      "cell_type": "markdown",
      "metadata": {
        "id": "rW76sxk41juK"
      },
      "source": [
        "Perceba que ele gera como resultado na pasta *mapped* um arquivo no formato .SAM. O sam é a versão arquivo de texto do arquivo .BAM que iremos gerar logo mais."
      ]
    },
    {
      "cell_type": "markdown",
      "metadata": {
        "id": "Aa0YhptnviWl"
      },
      "source": [
        "## Organizar o SAM e gerar o BAM"
      ]
    },
    {
      "cell_type": "markdown",
      "metadata": {
        "id": "yoCmc-ox1-_A"
      },
      "source": [
        "O programa samtools é uma suite de ferramenta para lidar com os arquivos fasta e de mapeamento. Nós vamos utilizar o *samtools sort* para ordenar e gerar o arquivo .BAM."
      ]
    },
    {
      "cell_type": "code",
      "metadata": {
        "id": "PgeH8Hpeqn-y"
      },
      "source": [
        "\n",
        "!samtools sort mapped/{SAMPLE}_mapped_sarscov2.sam -o mapped/{SAMPLE}_mapped_sarscov2_sorted.bam"
      ],
      "execution_count": null,
      "outputs": []
    },
    {
      "cell_type": "markdown",
      "metadata": {
        "id": "81ZS8Gg82Qu4"
      },
      "source": [
        "## Gerar dados de cobertura para o mapeamento"
      ]
    },
    {
      "cell_type": "markdown",
      "metadata": {
        "id": "_d8VFdOi2a86"
      },
      "source": [
        "A suite de comandos chamada *bedtools* tem uma série de ferramentas para lidar com dados de cobertura dos alinhamentos. Nós iremos utilizar os comandos abaixo para preparar um arquivo .BED com a maior região contínua do genoma do SARS-CoV-2 com cobertura de leituras de sequenciamento."
      ]
    },
    {
      "cell_type": "code",
      "metadata": {
        "id": "cITrudgQp1O4"
      },
      "source": [
        "\n",
        "!bedtools bamtobed -i mapped/{SAMPLE}_mapped_sarscov2_sorted.bam > coverage/mapped_sarcov2.bed\n",
        "!bedtools merge -i coverage/mapped_sarcov2.bed >coverage/mapped_sarscov2_merged.bed\n",
        "!bedtools sort -i coverage/mapped_sarscov2_merged.bed >coverage/mapped_sarscov2_merged_sorted.bed"
      ],
      "execution_count": null,
      "outputs": []
    },
    {
      "cell_type": "markdown",
      "metadata": {
        "id": "UTS2EbDN20TK"
      },
      "source": [
        "Após gerar este .BED, vamos utilizar o comando *bedtools coverage* para gerar a cobertura média nesta região contínua."
      ]
    },
    {
      "cell_type": "code",
      "metadata": {
        "id": "F1AtkIOoqwYw"
      },
      "source": [
        "\n",
        "!bedtools coverage -a coverage/mapped_sarscov2_merged_sorted.bed \\\n",
        "-b mapped/{SAMPLE}_mapped_sarscov2_sorted.bam -mean \\\n",
        ">coverage/results_coverage.bed"
      ],
      "execution_count": null,
      "outputs": []
    },
    {
      "cell_type": "markdown",
      "metadata": {
        "id": "WVlCSaIb3BIL"
      },
      "source": [
        "O arquivo *results_coverage.bed* na pasta *coverage* possui linhas, mostrando separados por tab:  \n",
        "`cromossomo  posição_inicio  pos_fim  cobertura_vertical_média`"
      ]
    },
    {
      "cell_type": "code",
      "metadata": {
        "id": "AVy5UpiZrGaP"
      },
      "source": [
        "%%bash\n",
        "cat coverage/results_coverage.bed"
      ],
      "execution_count": null,
      "outputs": []
    },
    {
      "cell_type": "markdown",
      "metadata": {
        "id": "HS4Kc3Kp4DXA"
      },
      "source": [
        "Veja novamente os arquivos novos criados na pasta *coverage*"
      ]
    },
    {
      "cell_type": "code",
      "metadata": {
        "id": "_rMzbfYzC8zM"
      },
      "source": [
        "!tree"
      ],
      "execution_count": null,
      "outputs": []
    },
    {
      "cell_type": "markdown",
      "metadata": {
        "id": "_exidv6kvtMc"
      },
      "source": [
        "## Fazer a chamada de variantes com o Freebayes"
      ]
    },
    {
      "cell_type": "markdown",
      "metadata": {
        "id": "u1g2pbCn4OCd"
      },
      "source": [
        "Agora, tendo como base o arquivo .BAM de mapeamento, vamos fazer a chamada de variantes. Para tal, iremos utilizar o software *freebayes*. Tenha em mente que existem várias ferramentas para esta finalidade, e estamos utilizando aqui uma destas opções com parâmetros default. Tenha paciência, o comando demora cerca de 3 minutos."
      ]
    },
    {
      "cell_type": "code",
      "metadata": {
        "id": "Z72LMv7nq561"
      },
      "source": [
        "\n",
        "!freebayes -f reference/NC_045512.fasta -p 1 mapped/{SAMPLE}_mapped_sarscov2_sorted.bam > variants/{SAMPLE}_variants.vcf"
      ],
      "execution_count": null,
      "outputs": []
    },
    {
      "cell_type": "markdown",
      "metadata": {
        "id": "Iq-g0m8o4h93"
      },
      "source": [
        "Veja o arquivo .VCF gerado dentro da pasta *variants*."
      ]
    },
    {
      "cell_type": "code",
      "metadata": {
        "id": "jzxA7GnZrW-2"
      },
      "source": [
        "!tree"
      ],
      "execution_count": null,
      "outputs": []
    },
    {
      "cell_type": "markdown",
      "metadata": {
        "id": "wBKuDySUv-Y_"
      },
      "source": [
        "Listar as variantes no VCF, caso queiram ver o arquivo bruto gerado."
      ]
    },
    {
      "cell_type": "code",
      "metadata": {
        "id": "XdG67hBwtCNB"
      },
      "source": [
        "!cat variants/{SAMPLE}_variants.vcf"
      ],
      "execution_count": null,
      "outputs": []
    },
    {
      "cell_type": "markdown",
      "metadata": {
        "id": "8nVdACX2wDee"
      },
      "source": [
        "## Anotação do VCF com base no genoma de referência de SARS-CoV-2"
      ]
    },
    {
      "cell_type": "markdown",
      "metadata": {
        "id": "XOBhSnpW5EAl"
      },
      "source": [
        "O arquivo VCF apresenta as coordenadas de uma mutação ou variante, mas não apresenta outras informações interessantes como por exemplo: Qual o tipo de variante (SNP, indel, etc), é sinônima?, está em qual gene?, e qual a alteração na proteína. Para fazer este tipo de anotação que é específica de cada genoma de referência, vamos utilizar o software chamado *annovar*.  \n",
        "Será necessário fazer download de alguns arquivos primeiro."
      ]
    },
    {
      "cell_type": "code",
      "metadata": {
        "id": "LFdtUDqNr7gD"
      },
      "source": [
        "# Download do annovar via wget do github\n",
        "!wget -nv https://github.com/Varstation/T1-2020/raw/master/annovar/annovar.zip\n",
        "!wget -nv http://www.openbioinformatics.org/annovar/download/NC_045512v2_avGene.txt.gz\n",
        "!wget -nv http://www.openbioinformatics.org/annovar/download/NC_045512v2_avGeneMrna.fa.gz"
      ],
      "execution_count": null,
      "outputs": []
    },
    {
      "cell_type": "code",
      "metadata": {
        "id": "tpW0C99jr60f"
      },
      "source": [
        "%%bash\n",
        "#Descompartar\n",
        "unzip annovar.zip\n",
        "gunzip -c NC_045512v2_avGene.txt.gz > reference/NC_045512v2_avGene.txt\n",
        "gunzip -c NC_045512v2_avGeneMrna.fa.gz > reference/NC_045512v2_avGeneMrna.fa\n",
        "#Remover os arquivos zipados\n",
        "rm annovar.zip *.gz"
      ],
      "execution_count": null,
      "outputs": []
    },
    {
      "cell_type": "markdown",
      "metadata": {
        "id": "luF1oeMJ6BeG"
      },
      "source": [
        "Comando necessário para acertar a referência de SARS-CoV-2."
      ]
    },
    {
      "cell_type": "code",
      "metadata": {
        "id": "DkEvi2zLsGeS"
      },
      "source": [
        "\n",
        "# Comando anotação\n",
        "!sed -i 's/NC_045512.2/NC_045512v2/g' variants/{SAMPLE}_variants.vcf\n"
      ],
      "execution_count": null,
      "outputs": []
    },
    {
      "cell_type": "markdown",
      "metadata": {
        "id": "voc1snee6JXU"
      },
      "source": [
        "Comando que faz a anotação."
      ]
    },
    {
      "cell_type": "code",
      "metadata": {
        "id": "XsGBhGB_u9PP"
      },
      "source": [
        "\n",
        "!annovar/table_annovar.pl -buildver NC_045512v2 -vcfinput variants/{SAMPLE}_variants.vcf reference/ -protocol avGene -operation g --polish"
      ],
      "execution_count": null,
      "outputs": []
    },
    {
      "cell_type": "markdown",
      "metadata": {
        "id": "i3_TRnbG7Wy3"
      },
      "source": [
        "Veja que um arquivo com final *multianno.txt* foi criado na pasta *variants*."
      ]
    },
    {
      "cell_type": "code",
      "metadata": {
        "id": "7tSarnVOFwK_"
      },
      "source": [
        "!tree"
      ],
      "execution_count": null,
      "outputs": []
    },
    {
      "cell_type": "markdown",
      "metadata": {
        "id": "0rG3RpEL7irp"
      },
      "source": [
        "Ele está sujo, pois algumas posições tem a frequência do alelo igual a zero (AF=0). Basta filtrar as linhas com AF=1 para observar as variantes presentes no vírus SARS-CoV-2 presente nesta amostra."
      ]
    },
    {
      "cell_type": "code",
      "metadata": {
        "id": "294smzNs6YgP"
      },
      "source": [
        "!head -n 1 variants/{SAMPLE}_variants.vcf.NC_045512v2_multianno.txt > variants/{SAMPLE}_final_variants_annotated.txt\n",
        "!grep ';AF=1;' variants/{SAMPLE}_variants.vcf.NC_045512v2_multianno.txt >> variants/{SAMPLE}_final_variants_annotated.txt"
      ],
      "execution_count": null,
      "outputs": []
    },
    {
      "cell_type": "markdown",
      "metadata": {
        "id": "_7feONGe8CNF"
      },
      "source": [
        "Pronto, o arquivo *covid_patient(1 ou 2)_final_variants_annotated.txt* na pasta VARIANTS possui as variantes filtradas. Você pode baixá-lo no seu computador e abrir no excel para ver na forma de uma tabela.  \n",
        "Perceba que a mudança no amino ácido da proteína está no final da coluna *AAChange.avgene* com o formato igual a este: E484K (significando que o aa E foi modificado por um aa K na posição 484."
      ]
    }
  ]
}